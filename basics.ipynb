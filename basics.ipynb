{
 "cells": [
  {
   "cell_type": "markdown",
   "metadata": {},
   "source": [
    "## Basic types"
   ]
  },
  {
   "cell_type": "code",
   "execution_count": 1,
   "metadata": {},
   "outputs": [
    {
     "name": "stdout",
     "output_type": "stream",
     "text": [
      "<class 'int'>\n",
      "<class 'float'>\n",
      "<class 'bool'>\n",
      "<class 'str'>\n"
     ]
    }
   ],
   "source": [
    "integer = 0  # is an integer number\n",
    "float_number = 1.0  # is a float number\n",
    "bool_var = True  # is a  boolean (True/False)\n",
    "char = \"a\"  # is a character (str)\n",
    "\n",
    "print(type(integer))\n",
    "print(type(float_number))\n",
    "print(type(bool_var))\n",
    "print(type(char))"
   ]
  },
  {
   "cell_type": "markdown",
   "metadata": {},
   "source": [
    "Variables can be cast into another type when their types are compatible"
   ]
  },
  {
   "cell_type": "code",
   "execution_count": 2,
   "metadata": {},
   "outputs": [
    {
     "name": "stdout",
     "output_type": "stream",
     "text": [
      "3\n",
      "3.0\n"
     ]
    }
   ],
   "source": [
    "cast_int = int(3.2)\n",
    "cast_float = float(3)\n",
    "print(cast_int)\n",
    "print(cast_float)"
   ]
  },
  {
   "cell_type": "markdown",
   "metadata": {},
   "source": [
    "### strings\n",
    "`strings` are objects, so they have attributes and methods"
   ]
  },
  {
   "cell_type": "code",
   "execution_count": 3,
   "metadata": {},
   "outputs": [
    {
     "name": "stdout",
     "output_type": "stream",
     "text": [
      "<class 'str'>\n",
      "Hello world\n",
      "H\n",
      "hELLO WORLD\n",
      "Hello world and hELLO WORLD\n"
     ]
    }
   ],
   "source": [
    "string = \"Hello world\"\n",
    "print(type(string))\n",
    "print(string)  # prints the string\n",
    "print(string[0])  # prints the first element of the list of characters, \"H\"\n",
    "\n",
    "swapped_string = string.swapcase()  # swaps lower and uppercase\n",
    "print(swapped_string)\n",
    "\n",
    "# since they are objects, operations can be defined and are allowed\n",
    "string_sum = string + \" and \" + swapped_string\n",
    "print(string_sum)"
   ]
  },
  {
   "cell_type": "markdown",
   "metadata": {},
   "source": [
    "### Windows warning:\n",
    "backslash (\\) denotes special characters, so for windows paths a `r` in front of the string is needed. A warning is sometimes generated when this happens."
   ]
  },
  {
   "cell_type": "code",
   "execution_count": 4,
   "metadata": {},
   "outputs": [
    {
     "name": "stdout",
     "output_type": "stream",
     "text": [
      "C:\\some\n",
      "ame\n",
      "C:\\some\\name\n"
     ]
    },
    {
     "name": "stderr",
     "output_type": "stream",
     "text": [
      "<>:1: SyntaxWarning: invalid escape sequence '\\s'\n",
      "<>:1: SyntaxWarning: invalid escape sequence '\\s'\n",
      "/tmp/ipykernel_86276/840795575.py:1: SyntaxWarning: invalid escape sequence '\\s'\n",
      "  print(\"C:\\some\\name\")  # not ok\n"
     ]
    }
   ],
   "source": [
    "print(\"C:\\some\\name\")  # not ok\n",
    "print(r\"C:\\some\\name\")  # ok"
   ]
  },
  {
   "cell_type": "markdown",
   "metadata": {},
   "source": [
    "### List, tuples\n",
    "`List` and `tuples` are ordered lists of elements that can have different types. \n",
    "Lists are initialized using square brackets and tuples with parentheses.\n",
    "The main difference is that ists are mutable, while tuples are immutable and can not be changed after being initialized"
   ]
  },
  {
   "cell_type": "code",
   "execution_count": 5,
   "metadata": {},
   "outputs": [
    {
     "name": "stdout",
     "output_type": "stream",
     "text": [
      "['a', 1, 2.0]\n"
     ]
    }
   ],
   "source": [
    "generic_list = [\n",
    "    \"a\",  # character\n",
    "    1,  # integer\n",
    "    2.0,  # float\n",
    "]\n",
    "print(generic_list)"
   ]
  },
  {
   "cell_type": "markdown",
   "metadata": {},
   "source": [
    "You can change the elements of a list, but trying to do that on a tuple leads to an error"
   ]
  },
  {
   "cell_type": "code",
   "execution_count": 6,
   "metadata": {},
   "outputs": [
    {
     "name": "stdout",
     "output_type": "stream",
     "text": [
      "['b', 1, 2]\n"
     ]
    }
   ],
   "source": [
    "example_list = [\"a\", 1, 2]\n",
    "example_tuple = (\"a\", 1, 2)\n",
    "\n",
    "example_list[0] = \"b\"\n",
    "# example_tuple[0] = \"b\" # ERROR\n",
    "print(example_list)"
   ]
  },
  {
   "cell_type": "markdown",
   "metadata": {},
   "source": [
    "## Dictionaries\n",
    "`Dictionaries` are objects that map two variables into each other. They are made of keywords and items pairs initialized using braces and colons, and accessed using square brackets."
   ]
  },
  {
   "cell_type": "code",
   "execution_count": 7,
   "metadata": {},
   "outputs": [
    {
     "name": "stdout",
     "output_type": "stream",
     "text": [
      "0\n",
      "hello\n",
      "1000000.0\n",
      "\n",
      "element a  :  0\n",
      "second_element  :  hello\n",
      "1  :  1000000.0\n"
     ]
    }
   ],
   "source": [
    "dictionary = {\n",
    "    \"element a\": 0,\n",
    "    \"second_element\": \"hello\",\n",
    "    1: 1.0e6,\n",
    "}  # a dictionary maps keywords and items\n",
    "\n",
    "print(dictionary[\"element a\"])\n",
    "print(dictionary[\"second_element\"])\n",
    "print(dictionary[1])\n",
    "\n",
    "print()\n",
    "for key, val in dictionary.items():\n",
    "    print(key, \" : \", val)"
   ]
  },
  {
   "cell_type": "markdown",
   "metadata": {},
   "source": [
    "## Functions\n",
    "Functions are defined using the def keyword, and can optionally return something with the return keyword. There are two types of input: positional arguments, which do not have a default value in the function definition, and keyword arguments. \n",
    "\n",
    "Arguments are assumed to be ordered if not explicitlye stated, so keywords arguments are ALWAYS passed after all positional arguments."
   ]
  },
  {
   "cell_type": "code",
   "execution_count": 8,
   "metadata": {},
   "outputs": [
    {
     "name": "stdout",
     "output_type": "stream",
     "text": [
      "3\n",
      "6\n",
      "8\n",
      "6\n"
     ]
    }
   ],
   "source": [
    "# here the first two elements are mandatory, the third is a keyword argument which has a default value and can be omitted\n",
    "def f(x, a, b=0):\n",
    "    result = x + a + b\n",
    "    return result\n",
    "\n",
    "\n",
    "# and can be called using brackets\n",
    "print(f(1, 2))  # b=0 as default\n",
    "print(f(1, 2, 3))  # b is set to 3\n",
    "print(f(1, 2, b=5))\n",
    "\n",
    "# the parameters are assumed to be in order if not explicitly stated, so it is ok to write\n",
    "print(f(b=3, x=1, a=2))\n",
    "# but THIS would lead to an error!\n",
    "# print(f(x=1, 2, 3))"
   ]
  },
  {
   "cell_type": "markdown",
   "metadata": {},
   "source": [
    "Since everything (including functions) is an object in python, a high level of abstraction can be achieved by passing functions as arguments to other functions.\n",
    "\n",
    "It is also possible to pass a list of parameters in a single call using asterisks and allowing the function to unpack them."
   ]
  },
  {
   "cell_type": "code",
   "execution_count": 9,
   "metadata": {},
   "outputs": [
    {
     "name": "stdout",
     "output_type": "stream",
     "text": [
      "3\n"
     ]
    }
   ],
   "source": [
    "# g is a functions that takes three parameters and calls the first parameter passing the other parameters as parameters. The default value is used for b\n",
    "def g(func, second_param, third_param):\n",
    "    return func(second_param, third_param)\n",
    "\n",
    "\n",
    "parameters = [1, 2]\n",
    "result = g(f, *parameters)  # equivalent to result = g(f, 1, 2) -> f(x=1, a=2, b=0)\n",
    "print(result)"
   ]
  },
  {
   "cell_type": "markdown",
   "metadata": {},
   "source": [
    "## Control flow"
   ]
  },
  {
   "cell_type": "markdown",
   "metadata": {},
   "source": [
    "If/elif/else syntax is as follows."
   ]
  },
  {
   "cell_type": "code",
   "execution_count": 10,
   "metadata": {},
   "outputs": [
    {
     "name": "stdout",
     "output_type": "stream",
     "text": [
      "Check is True\n"
     ]
    }
   ],
   "source": [
    "check = True\n",
    "if check:  # equivalent to \"if check is True\"\n",
    "    print(\"Check is True\")\n",
    "elif not check:  # equivalent to \"if check is not True\"\n",
    "    print(\"Check is false\")\n",
    "else:  # all other cases\n",
    "    print(\"This should never be printed!\")"
   ]
  },
  {
   "cell_type": "markdown",
   "metadata": {},
   "source": [
    "For loops"
   ]
  },
  {
   "cell_type": "code",
   "execution_count": 11,
   "metadata": {},
   "outputs": [
    {
     "name": "stdout",
     "output_type": "stream",
     "text": [
      "apple\n",
      "banana\n",
      "30000000000.0\n"
     ]
    }
   ],
   "source": [
    "to_loop = [\"apple\", \"banana\", 3.0e10]\n",
    "for i in to_loop:\n",
    "    print(i)"
   ]
  },
  {
   "cell_type": "markdown",
   "metadata": {},
   "source": [
    "range(start, end, step) function is extremely useful to quickly generate a sequence of ordered numbers"
   ]
  },
  {
   "cell_type": "code",
   "execution_count": 12,
   "metadata": {},
   "outputs": [
    {
     "name": "stdout",
     "output_type": "stream",
     "text": [
      "0\n",
      "1\n",
      "2\n",
      "4\n"
     ]
    }
   ],
   "source": [
    "for i in range(10):  # equivalent to range(0, 10, 1)\n",
    "    if i == 3:\n",
    "        continue  # skip number 3\n",
    "    elif i == 5:\n",
    "        break  # stop at number 5\n",
    "    else:\n",
    "        print(i)"
   ]
  },
  {
   "cell_type": "markdown",
   "metadata": {},
   "source": [
    "match is used as a way to avoid multiple if statemets"
   ]
  },
  {
   "cell_type": "code",
   "execution_count": 13,
   "metadata": {},
   "outputs": [
    {
     "name": "stdout",
     "output_type": "stream",
     "text": [
      "third case\n"
     ]
    }
   ],
   "source": [
    "a = \"Hello\"\n",
    "match a:\n",
    "    case 2:  # check if a==2\n",
    "        print(\"first case\")\n",
    "    case 1:  # check if a==1\n",
    "        print(\"second case\")\n",
    "    case \"Hello\":  # check if a==\"Hello\"\n",
    "        print(\"third case\")"
   ]
  },
  {
   "cell_type": "markdown",
   "metadata": {},
   "source": [
    "# list comprehensions\n",
    "fast and optimized tool for generating lists/arrays/etc...\n",
    "\n",
    "If you want to know how they work look for the \"generator\" objects"
   ]
  },
  {
   "cell_type": "code",
   "execution_count": 14,
   "metadata": {},
   "outputs": [
    {
     "name": "stdout",
     "output_type": "stream",
     "text": [
      "[0, 1, 4, 9, 16, 25, 36, 49, 64, 81]\n"
     ]
    }
   ],
   "source": [
    "comprehension_list = [i * i for i in range(10)]  # square of a list of numbers\n",
    "print(comprehension_list)"
   ]
  },
  {
   "cell_type": "markdown",
   "metadata": {},
   "source": [
    "## f-strings\n",
    "or \"formatted strings\", very useful for output and debugging. \n",
    "They contain a combination of string and expressions that are evaluated on the fly."
   ]
  },
  {
   "cell_type": "code",
   "execution_count": 15,
   "metadata": {},
   "outputs": [
    {
     "name": "stdout",
     "output_type": "stream",
     "text": [
      "Example list is ['b', 1, 2]\n",
      "Formatted list is example_list = ['b', 1, 2]\n",
      "Format in scientific notation: 1.000e+07\n",
      "Format in classic notation: 10000000.000\n",
      "Even works with functions: <function f at 0x7f918ed49bc0>\n",
      "which can be called to give 3\n"
     ]
    }
   ],
   "source": [
    "print(f\"Example list is {example_list}\")\n",
    "print(f\"Formatted list is {example_list = }\")\n",
    "\n",
    "big_number = 10000000\n",
    "print(f\"Format in scientific notation: {big_number:8.3e}\")\n",
    "print(f\"Format in classic notation: {big_number:8.3f}\")\n",
    "\n",
    "print(f\"Even works with functions: {f}\")\n",
    "print(f\"which can be called to give {f(0,1,2)}\")"
   ]
  },
  {
   "cell_type": "markdown",
   "metadata": {},
   "source": [
    "# Packages\n",
    "Packages are the backbone of python programming and are set using the import statement."
   ]
  },
  {
   "cell_type": "code",
   "execution_count": 16,
   "metadata": {},
   "outputs": [
    {
     "name": "stdout",
     "output_type": "stream",
     "text": [
      "<class 'module'>\n"
     ]
    }
   ],
   "source": [
    "import time\n",
    "\n",
    "print(type(time))\n",
    "\n",
    "time.sleep(0.5)  # calls sleep, waits for .5 seconds"
   ]
  },
  {
   "cell_type": "code",
   "execution_count": 17,
   "metadata": {},
   "outputs": [
    {
     "name": "stdout",
     "output_type": "stream",
     "text": [
      "<class 'numpy.ndarray'>\n",
      "[0 1 2 3]\n",
      "[  0   0   0   0   0   0   0   0   0   0   1   1   1   1   1   1   1   1\n",
      "   1   1   2   2   2   2   2   2   2   2   2   2   3   3   3   3   3   3\n",
      "   3   3   3   3   4   4   4   4   4   4   4   4   4   4   5   5   5   5\n",
      "   5   5   5   5   5   5   6   6   6   6   6   6   6   6   6   6   7   7\n",
      "   7   7   7   7   7   7   7   7   8   8   8   8   8   8   8   8   8   8\n",
      "   9   9   9   9   9   9   9   9   9   9  10  10  10  10  10  10  10  10\n",
      "  10  10  11  11  11  11  11  11  11  11  11  11  12  12  12  12  12  12\n",
      "  12  12  12  12  13  13  13  13  13  13  13  13  13  13  14  14  14  14\n",
      "  14  14  14  14  14  14  15  15  15  15  15  15  15  15  15  15  16  16\n",
      "  16  16  16  16  16  16  16  16  17  17  17  17  17  17  17  17  17  17\n",
      "  18  18  18  18  18  18  18  18  18  18  19  19  19  19  19  19  19  19\n",
      "  19  19  20  20  20  20  20  20  20  20  20  20  21  21  21  21  21  21\n",
      "  21  21  21  21  22  22  22  22  22  22  22  22  22  22  23  23  23  23\n",
      "  23  23  23  23  23  23  24  24  24  24  24  24  24  24  24  24  25  25\n",
      "  25  25  25  25  25  25  25  25  26  26  26  26  26  26  26  26  26  26\n",
      "  27  27  27  27  27  27  27  27  27  27  28  28  28  28  28  28  28  28\n",
      "  28  28  29  29  29  29  29  29  29  29  29  29  30  30  30  30  30  30\n",
      "  30  30  30  30  31  31  31  31  31  31  31  31  31  31  32  32  32  32\n",
      "  32  32  32  32  32  32  33  33  33  33  33  33  33  33  33  33  34  34\n",
      "  34  34  34  34  34  34  34  34  35  35  35  35  35  35  35  35  35  35\n",
      "  36  36  36  36  36  36  36  36  36  36  37  37  37  37  37  37  37  37\n",
      "  37  37  38  38  38  38  38  38  38  38  38  38  39  39  39  39  39  39\n",
      "  39  39  39  39  40  40  40  40  40  40  40  40  40  40  41  41  41  41\n",
      "  41  41  41  41  41  41  42  42  42  42  42  42  42  42  42  42  43  43\n",
      "  43  43  43  43  43  43  43  43  44  44  44  44  44  44  44  44  44  44\n",
      "  45  45  45  45  45  45  45  45  45  45  46  46  46  46  46  46  46  46\n",
      "  46  46  47  47  47  47  47  47  47  47  47  47  48  48  48  48  48  48\n",
      "  48  48  48  48  49  49  49  49  49  49  49  49  49  49  50  50  50  50\n",
      "  50  50  50  50  50  50  51  51  51  51  51  51  51  51  51  51  52  52\n",
      "  52  52  52  52  52  52  52  52  53  53  53  53  53  53  53  53  53  53\n",
      "  54  54  54  54  54  54  54  54  54  54  55  55  55  55  55  55  55  55\n",
      "  55  55  56  56  56  56  56  56  56  56  56  56  57  57  57  57  57  57\n",
      "  57  57  57  57  58  58  58  58  58  58  58  58  58  58  59  59  59  59\n",
      "  59  59  59  59  59  59  60  60  60  60  60  60  60  60  60  60  61  61\n",
      "  61  61  61  61  61  61  61  61  62  62  62  62  62  62  62  62  62  62\n",
      "  63  63  63  63  63  63  63  63  63  63  64  64  64  64  64  64  64  64\n",
      "  64  64  65  65  65  65  65  65  65  65  65  65  66  66  66  66  66  66\n",
      "  66  66  66  66  67  67  67  67  67  67  67  67  67  67  68  68  68  68\n",
      "  68  68  68  68  68  68  69  69  69  69  69  69  69  69  69  69  70  70\n",
      "  70  70  70  70  70  70  70  70  71  71  71  71  71  71  71  71  71  71\n",
      "  72  72  72  72  72  72  72  72  72  72  73  73  73  73  73  73  73  73\n",
      "  73  73  74  74  74  74  74  74  74  74  74  74  75  75  75  75  75  75\n",
      "  75  75  75  75  76  76  76  76  76  76  76  76  76  76  77  77  77  77\n",
      "  77  77  77  77  77  77  78  78  78  78  78  78  78  78  78  78  79  79\n",
      "  79  79  79  79  79  79  79  79  80  80  80  80  80  80  80  80  80  80\n",
      "  81  81  81  81  81  81  81  81  81  81  82  82  82  82  82  82  82  82\n",
      "  82  82  83  83  83  83  83  83  83  83  83  83  84  84  84  84  84  84\n",
      "  84  84  84  84  85  85  85  85  85  85  85  85  85  85  86  86  86  86\n",
      "  86  86  86  86  86  86  87  87  87  87  87  87  87  87  87  87  88  88\n",
      "  88  88  88  88  88  88  88  88  89  89  89  89  89  89  89  89  89  89\n",
      "  90  90  90  90  90  90  90  90  90  90  91  91  91  91  91  91  91  91\n",
      "  91  91  92  92  92  92  92  92  92  92  92  92  93  93  93  93  93  93\n",
      "  93  93  93  93  94  94  94  94  94  94  94  94  94  94  95  95  95  95\n",
      "  95  95  95  95  95  95  96  96  96  96  96  96  96  96  96  96  97  97\n",
      "  97  97  97  97  97  97  97  97  98  98  98  98  98  98  98  98  98  98\n",
      "  99  99  99  99  99  99  99  99  99 100]\n"
     ]
    }
   ],
   "source": [
    "import numpy as np\n",
    "\n",
    "example_array = np.array([0, 1, 2, 3])  # creates an array from a list\n",
    "print(type(example_array))\n",
    "print(example_array)\n",
    "\n",
    "# create an array from 0 to 100, containing 1000 numbers of integer type\n",
    "example_long_array = np.linspace(0, 100, 1000, dtype=int)\n",
    "print(example_long_array)"
   ]
  },
  {
   "cell_type": "markdown",
   "metadata": {},
   "source": [
    "## Dunder methods\n",
    "\n",
    "It is good practice to protect some variables from being rewritten accidentally from the user by using underscores \"_\". \n",
    "\n",
    "Some extremely important variables and functions use a double underscore before and after the variable name to avoid being modified, which are called `dunder methods`\n",
    "\n",
    "They contain default methods for the majority of variables, for example \\__dir__ contains a list of the attributes and methods."
   ]
  },
  {
   "cell_type": "code",
   "execution_count": 18,
   "metadata": {},
   "outputs": [
    {
     "name": "stdout",
     "output_type": "stream",
     "text": [
      "__main__\n",
      "<class 'list'>\n",
      "['__new__', '__repr__', '__hash__', '__str__', '__lt__', '__le__', '__eq__', '__ne__', '__gt__', '__ge__', '__iter__', '__mod__', '__rmod__', '__len__', '__getitem__', '__add__', '__mul__', '__rmul__', '__contains__', 'encode', 'replace', 'split', 'rsplit', 'join', 'capitalize', 'casefold', 'title', 'center', 'count', 'expandtabs', 'find', 'partition', 'index', 'ljust', 'lower', 'lstrip', 'rfind', 'rindex', 'rjust', 'rstrip', 'rpartition', 'splitlines', 'strip', 'swapcase', 'translate', 'upper', 'startswith', 'endswith', 'removeprefix', 'removesuffix', 'isascii', 'islower', 'isupper', 'istitle', 'isspace', 'isdecimal', 'isdigit', 'isnumeric', 'isalpha', 'isalnum', 'isidentifier', 'isprintable', 'zfill', 'format', 'format_map', '__format__', 'maketrans', '__sizeof__', '__getnewargs__', '__doc__', '__getattribute__', '__setattr__', '__delattr__', '__init__', '__reduce_ex__', '__reduce__', '__getstate__', '__subclasshook__', '__init_subclass__', '__dir__', '__class__']\n"
     ]
    }
   ],
   "source": [
    "print(\n",
    "    __name__\n",
    ")  # contains the name of the module being run, \"__main__\" for the main module\n",
    "\n",
    "example_variable = \"Hello world\"\n",
    "print(type(example_variable.__dir__()))\n",
    "print(example_variable.__dir__())"
   ]
  },
  {
   "cell_type": "markdown",
   "metadata": {},
   "source": [
    "## Note on scopes:\n",
    "indentation seems to work like in languages with scopes (e.g. c++), BUT actually python looks for variables from the innermost indentation to the outermost (see below). Beware with your variables!"
   ]
  },
  {
   "cell_type": "code",
   "execution_count": 19,
   "metadata": {},
   "outputs": [
    {
     "name": "stdout",
     "output_type": "stream",
     "text": [
      "False\n",
      "False\n"
     ]
    }
   ],
   "source": [
    "# a and b are \"global\" (outside of any indentation)\n",
    "a = True\n",
    "b = False\n",
    "\n",
    "\n",
    "def scope_function():\n",
    "    a = False\n",
    "    print(a)  # innermost indentation a is found, so False\n",
    "    print(b)  # b is not found here, but in the outermost b is defined as False\n",
    "    # print(c) # ERROR: there is no variable c defined anywhere\n",
    "\n",
    "\n",
    "scope_function()"
   ]
  }
 ],
 "metadata": {
  "kernelspec": {
   "display_name": "Python 3",
   "language": "python",
   "name": "python3"
  },
  "language_info": {
   "codemirror_mode": {
    "name": "ipython",
    "version": 3
   },
   "file_extension": ".py",
   "mimetype": "text/x-python",
   "name": "python",
   "nbconvert_exporter": "python",
   "pygments_lexer": "ipython3",
   "version": "3.12.6"
  }
 },
 "nbformat": 4,
 "nbformat_minor": 2
}
