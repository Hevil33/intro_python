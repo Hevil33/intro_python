{
 "cells": [
  {
   "cell_type": "markdown",
   "metadata": {},
   "source": [
    "## Glob\n",
    "glob can be used to search for files and folders using a terminal-like syntax"
   ]
  },
  {
   "cell_type": "code",
   "execution_count": 1,
   "metadata": {},
   "outputs": [],
   "source": [
    "import os\n",
    "from glob import glob"
   ]
  },
  {
   "cell_type": "markdown",
   "metadata": {},
   "source": [
    "The `os.path.join` is used to join strings using os-dependent separators, so \"\\\" on UNIX and \"/\" on windows "
   ]
  },
  {
   "cell_type": "code",
   "execution_count": 2,
   "metadata": {},
   "outputs": [
    {
     "name": "stdout",
     "output_type": "stream",
     "text": [
      "['../example_folder/subfolder_2', '../example_folder/subfolder_1']\n"
     ]
    }
   ],
   "source": [
    "# since windows and unix paths are different, use os to join strings depending on the OS\n",
    "# in unix: \"../example_folder/*\"\n",
    "# in windows: \"..\\example_folder\\*\"\n",
    "folder_path = os.path.join(\"..\", \"example_folder\", \"*\")\n",
    "folders = glob(folder_path)\n",
    "print(folders)"
   ]
  },
  {
   "cell_type": "code",
   "execution_count": 3,
   "metadata": {},
   "outputs": [
    {
     "name": "stdout",
     "output_type": "stream",
     "text": [
      "['../example_folder/subfolder_2/file 3.txt']\n",
      "['../example_folder/subfolder_1/file 2.txt', '../example_folder/subfolder_1/file 1.txt']\n"
     ]
    }
   ],
   "source": [
    "for folder in folders:\n",
    "    subfolder_path = os.path.join(folder, \"*\")\n",
    "    subfolders = glob(subfolder_path)\n",
    "    print(subfolders)"
   ]
  },
  {
   "cell_type": "markdown",
   "metadata": {},
   "source": [
    "## numpy\n",
    "The bread and butter package for data analysis.\n",
    "Allows fast array manipulation, and is used by a large portion of the other libraries."
   ]
  },
  {
   "cell_type": "code",
   "execution_count": 4,
   "metadata": {},
   "outputs": [],
   "source": [
    "import numpy as np"
   ]
  },
  {
   "cell_type": "code",
   "execution_count": 5,
   "metadata": {},
   "outputs": [
    {
     "name": "stdout",
     "output_type": "stream",
     "text": [
      "[0 2 1 3]\n",
      "[0 1 2 3]\n",
      "[3 4 5 6]\n",
      "[13 24 35 46]\n"
     ]
    }
   ],
   "source": [
    "example_list = [0, 2, 1, 3]\n",
    "example_array = np.array(example_list)\n",
    "print(example_array)\n",
    "\n",
    "example_array.sort()  # sort the array\n",
    "print(example_array)\n",
    "example_array = example_array + 3  # add 3 to each element\n",
    "print(example_array)\n",
    "\n",
    "example_array2 = np.array([10, 20, 30, 40])\n",
    "print(example_array + example_array2)  # sum the two arrays"
   ]
  },
  {
   "cell_type": "code",
   "execution_count": 6,
   "metadata": {},
   "outputs": [
    {
     "name": "stdout",
     "output_type": "stream",
     "text": [
      "[[ 0  1  2  3  4]\n",
      " [ 5  6  7  8  9]\n",
      " [10 11 12 13 14]]\n",
      "[[0 1 2]\n",
      " [3 4 5]\n",
      " [6 7 8]]\n",
      "[[[5. 5. 5.]\n",
      "  [5. 5. 5.]\n",
      "  [5. 5. 5.]]\n",
      "\n",
      " [[5. 5. 5.]\n",
      "  [5. 5. 5.]\n",
      "  [5. 5. 5.]]\n",
      "\n",
      " [[5. 5. 5.]\n",
      "  [5. 5. 5.]\n",
      "  [5. 5. 5.]]]\n"
     ]
    }
   ],
   "source": [
    "# more dimensions\n",
    "array_2d = np.arange(15).reshape(3, 5)  # generate 1d array and then reshape it\n",
    "print(array_2d)\n",
    "array_2d = np.array([[0, 1, 2], [3, 4, 5], [6, 7, 8]])\n",
    "print(array_2d)\n",
    "\n",
    "array_3d = np.ones(shape=(3, 3, 3)) * 5\n",
    "print(array_3d)"
   ]
  },
  {
   "cell_type": "markdown",
   "metadata": {},
   "source": [
    "## pandas\n",
    "useful for reading csv and excel files. The base class is dataframe, in which data is represented with Series objects aligned using an index (usually the first column)."
   ]
  },
  {
   "cell_type": "code",
   "execution_count": 7,
   "metadata": {},
   "outputs": [],
   "source": [
    "import pandas as pd"
   ]
  },
  {
   "cell_type": "code",
   "execution_count": 8,
   "metadata": {},
   "outputs": [
    {
     "name": "stdout",
     "output_type": "stream",
     "text": [
      "     A          B    C  D      E    F\n",
      "0  1.0 2013-01-02  1.0  3   test  foo\n",
      "1  1.0 2013-01-02  1.0  3  train  foo\n",
      "2  1.0 2013-01-02  1.0  3   test  foo\n",
      "3  1.0 2013-01-02  1.0  3  train  foo\n",
      "\n",
      "First column is\n",
      "0   2013-01-02\n",
      "1   2013-01-02\n",
      "2   2013-01-02\n",
      "3   2013-01-02\n",
      "Name: B, dtype: datetime64[ns]\n",
      "0   2013-01-02\n",
      "1   2013-01-02\n",
      "2   2013-01-02\n",
      "3   2013-01-02\n",
      "Name: B, dtype: datetime64[ns]\n"
     ]
    }
   ],
   "source": [
    "csv_filename = os.path.join(\".\", \"example_csv.csv\")\n",
    "df2 = pd.read_csv(csv_filename, sep=\",\", parse_dates=[1])\n",
    "print(df2)  # this is a dataframe made of aligned series\n",
    "print()\n",
    "print(\"First column is\")\n",
    "print(df2[\"B\"])  # this is a Series\n",
    "print(df2[df2.columns[1]])  # this is a Series"
   ]
  },
  {
   "cell_type": "markdown",
   "metadata": {},
   "source": [
    "## Matplotlib\n",
    "Library used for plotting"
   ]
  },
  {
   "cell_type": "code",
   "execution_count": 9,
   "metadata": {},
   "outputs": [],
   "source": [
    "import matplotlib.pyplot as plt"
   ]
  },
  {
   "cell_type": "code",
   "execution_count": 10,
   "metadata": {},
   "outputs": [
    {
     "data": {
      "image/png": "[encoded data removed]",
      "text/plain": [
       "<Figure size 640x480 with 2 Axes>"
      ]
     },
     "metadata": {},
     "output_type": "display_data"
    }
   ],
   "source": [
    "x = np.linspace(0, 2 * np.pi, 100)\n",
    "sin_x = np.sin(x)\n",
    "sin_error = np.ones_like(x) * 0.25\n",
    "exp_x = np.exp(x)\n",
    "\n",
    "fig, ax = plt.subplots(2, dpi=100, constrained_layout=True)\n",
    "fig.suptitle(\"Example functions\")\n",
    "\n",
    "ax[0].plot(x, sin_x, \"ok\", label=\"sin(x)\")\n",
    "ax[0].errorbar(x, sin_x, yerr=sin_error, ecolor=\"green\", label=\"error\", marker=\"None\")\n",
    "ax[0].set_title(\"Sinusoidal\")\n",
    "\n",
    "ax[1].plot(x, exp_x, \"-r\", label=\"exp(x)\")\n",
    "ax[1].set_title(\"Exponential\")\n",
    "ax[1].axhline(100, label=\"Threshold\", linestyle=\"dotted\")\n",
    "\n",
    "for axis in ax:\n",
    "    axis.set_xlabel(\"x\")\n",
    "    axis.set_ylabel(\"y\")\n",
    "    axis.legend()"
   ]
  },
  {
   "cell_type": "markdown",
   "metadata": {},
   "source": [
    "## datetime\n",
    "library for managing time-related objects"
   ]
  },
  {
   "cell_type": "code",
   "execution_count": 11,
   "metadata": {},
   "outputs": [],
   "source": [
    "from datetime import datetime"
   ]
  },
  {
   "cell_type": "code",
   "execution_count": 12,
   "metadata": {},
   "outputs": [
    {
     "name": "stdout",
     "output_type": "stream",
     "text": [
      "2024-09-20 10:47:56.314768\n",
      "2024-04-10 18:00:00\n",
      "-1 day, 5:00:00\n",
      "-1\n"
     ]
    }
   ],
   "source": [
    "now = datetime.now()\n",
    "print(now)\n",
    "\n",
    "first_date = datetime.strptime(\"2024/04/10 18:00\", \"%Y/%m/%d %H:%M\")\n",
    "print(first_date)\n",
    "second_date = datetime(2024, 4, 11, 13, 0, 0)\n",
    "\n",
    "difference = first_date - second_date\n",
    "print(difference)\n",
    "print(difference.days)"
   ]
  }
 ],
 "metadata": {
  "kernelspec": {
   "display_name": "Python 3",
   "language": "python",
   "name": "python3"
  },
  "language_info": {
   "codemirror_mode": {
    "name": "ipython",
    "version": 3
   },
   "file_extension": ".py",
   "mimetype": "text/x-python",
   "name": "python",
   "nbconvert_exporter": "python",
   "pygments_lexer": "ipython3",
   "version": "3.12.6"
  }
 },
 "nbformat": 4,
 "nbformat_minor": 2
}
